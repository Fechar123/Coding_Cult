{
 "cells": [
  {
   "cell_type": "code",
   "execution_count": 143,
   "metadata": {},
   "outputs": [],
   "source": [
    "import pandas as pd\n",
    "import matplotlib.pyplot as plt\n",
    "#import seaborn as sns\n",
    "%matplotlib inline"
   ]
  },
  {
   "cell_type": "code",
   "execution_count": 123,
   "metadata": {},
   "outputs": [
    {
     "data": {
      "text/html": [
       "<div>\n",
       "<style scoped>\n",
       "    .dataframe tbody tr th:only-of-type {\n",
       "        vertical-align: middle;\n",
       "    }\n",
       "\n",
       "    .dataframe tbody tr th {\n",
       "        vertical-align: top;\n",
       "    }\n",
       "\n",
       "    .dataframe thead th {\n",
       "        text-align: right;\n",
       "    }\n",
       "</style>\n",
       "<table border=\"1\" class=\"dataframe\">\n",
       "  <thead>\n",
       "    <tr style=\"text-align: right;\">\n",
       "      <th></th>\n",
       "      <th>name</th>\n",
       "      <th>height</th>\n",
       "      <th>mass</th>\n",
       "      <th>hair_color</th>\n",
       "      <th>skin_color</th>\n",
       "      <th>eye_color</th>\n",
       "      <th>birth_year</th>\n",
       "      <th>sex</th>\n",
       "      <th>gender</th>\n",
       "      <th>homeworld</th>\n",
       "      <th>species</th>\n",
       "      <th>films</th>\n",
       "      <th>vehicles</th>\n",
       "      <th>starships</th>\n",
       "    </tr>\n",
       "  </thead>\n",
       "  <tbody>\n",
       "    <tr>\n",
       "      <td>0</td>\n",
       "      <td>Luke Skywalker</td>\n",
       "      <td>172.0</td>\n",
       "      <td>77.0</td>\n",
       "      <td>blond</td>\n",
       "      <td>fair</td>\n",
       "      <td>blue</td>\n",
       "      <td>19.0</td>\n",
       "      <td>male</td>\n",
       "      <td>masculine</td>\n",
       "      <td>Tatooine</td>\n",
       "      <td>Human</td>\n",
       "      <td>The Empire Strikes Back, Revenge of the Sith, ...</td>\n",
       "      <td>Snowspeeder, Imperial Speeder Bike</td>\n",
       "      <td>X-wing, Imperial shuttle</td>\n",
       "    </tr>\n",
       "    <tr>\n",
       "      <td>1</td>\n",
       "      <td>C-3PO</td>\n",
       "      <td>167.0</td>\n",
       "      <td>75.0</td>\n",
       "      <td>NaN</td>\n",
       "      <td>gold</td>\n",
       "      <td>yellow</td>\n",
       "      <td>112.0</td>\n",
       "      <td>none</td>\n",
       "      <td>masculine</td>\n",
       "      <td>Tatooine</td>\n",
       "      <td>Droid</td>\n",
       "      <td>The Empire Strikes Back, Attack of the Clones,...</td>\n",
       "      <td>NaN</td>\n",
       "      <td>NaN</td>\n",
       "    </tr>\n",
       "    <tr>\n",
       "      <td>2</td>\n",
       "      <td>R2-D2</td>\n",
       "      <td>96.0</td>\n",
       "      <td>32.0</td>\n",
       "      <td>NaN</td>\n",
       "      <td>white, blue</td>\n",
       "      <td>red</td>\n",
       "      <td>33.0</td>\n",
       "      <td>none</td>\n",
       "      <td>masculine</td>\n",
       "      <td>Naboo</td>\n",
       "      <td>Droid</td>\n",
       "      <td>The Empire Strikes Back, Attack of the Clones,...</td>\n",
       "      <td>NaN</td>\n",
       "      <td>NaN</td>\n",
       "    </tr>\n",
       "    <tr>\n",
       "      <td>3</td>\n",
       "      <td>Darth Vader</td>\n",
       "      <td>202.0</td>\n",
       "      <td>136.0</td>\n",
       "      <td>none</td>\n",
       "      <td>white</td>\n",
       "      <td>yellow</td>\n",
       "      <td>41.9</td>\n",
       "      <td>male</td>\n",
       "      <td>masculine</td>\n",
       "      <td>Tatooine</td>\n",
       "      <td>Human</td>\n",
       "      <td>The Empire Strikes Back, Revenge of the Sith, ...</td>\n",
       "      <td>NaN</td>\n",
       "      <td>TIE Advanced x1</td>\n",
       "    </tr>\n",
       "    <tr>\n",
       "      <td>4</td>\n",
       "      <td>Leia Organa</td>\n",
       "      <td>150.0</td>\n",
       "      <td>49.0</td>\n",
       "      <td>brown</td>\n",
       "      <td>light</td>\n",
       "      <td>brown</td>\n",
       "      <td>19.0</td>\n",
       "      <td>female</td>\n",
       "      <td>feminine</td>\n",
       "      <td>Alderaan</td>\n",
       "      <td>Human</td>\n",
       "      <td>The Empire Strikes Back, Revenge of the Sith, ...</td>\n",
       "      <td>Imperial Speeder Bike</td>\n",
       "      <td>NaN</td>\n",
       "    </tr>\n",
       "  </tbody>\n",
       "</table>\n",
       "</div>"
      ],
      "text/plain": [
       "             name  height   mass hair_color   skin_color eye_color  \\\n",
       "0  Luke Skywalker   172.0   77.0      blond         fair      blue   \n",
       "1           C-3PO   167.0   75.0        NaN         gold    yellow   \n",
       "2           R2-D2    96.0   32.0        NaN  white, blue       red   \n",
       "3     Darth Vader   202.0  136.0       none        white    yellow   \n",
       "4     Leia Organa   150.0   49.0      brown        light     brown   \n",
       "\n",
       "   birth_year     sex     gender homeworld species  \\\n",
       "0        19.0    male  masculine  Tatooine   Human   \n",
       "1       112.0    none  masculine  Tatooine   Droid   \n",
       "2        33.0    none  masculine     Naboo   Droid   \n",
       "3        41.9    male  masculine  Tatooine   Human   \n",
       "4        19.0  female   feminine  Alderaan   Human   \n",
       "\n",
       "                                               films  \\\n",
       "0  The Empire Strikes Back, Revenge of the Sith, ...   \n",
       "1  The Empire Strikes Back, Attack of the Clones,...   \n",
       "2  The Empire Strikes Back, Attack of the Clones,...   \n",
       "3  The Empire Strikes Back, Revenge of the Sith, ...   \n",
       "4  The Empire Strikes Back, Revenge of the Sith, ...   \n",
       "\n",
       "                             vehicles                 starships  \n",
       "0  Snowspeeder, Imperial Speeder Bike  X-wing, Imperial shuttle  \n",
       "1                                 NaN                       NaN  \n",
       "2                                 NaN                       NaN  \n",
       "3                                 NaN           TIE Advanced x1  \n",
       "4               Imperial Speeder Bike                       NaN  "
      ]
     },
     "execution_count": 123,
     "metadata": {},
     "output_type": "execute_result"
    }
   ],
   "source": [
    "starwars = pd.read_csv(\"starwars.csv\")\n",
    "starwars.head()"
   ]
  },
  {
   "cell_type": "code",
   "execution_count": 124,
   "metadata": {},
   "outputs": [
    {
     "data": {
      "text/plain": [
       "(87, 14)"
      ]
     },
     "execution_count": 124,
     "metadata": {},
     "output_type": "execute_result"
    }
   ],
   "source": [
    "# understanding the structure of the dataframe\n",
    "\n",
    "starwars.shape\n"
   ]
  },
  {
   "cell_type": "markdown",
   "metadata": {},
   "source": [
    "we can see that this dataframe has 87 rows and 14 columns"
   ]
  },
  {
   "cell_type": "code",
   "execution_count": 125,
   "metadata": {},
   "outputs": [
    {
     "data": {
      "text/plain": [
       "name           object\n",
       "height        float64\n",
       "mass          float64\n",
       "hair_color     object\n",
       "skin_color     object\n",
       "eye_color      object\n",
       "birth_year    float64\n",
       "sex            object\n",
       "gender         object\n",
       "homeworld      object\n",
       "species        object\n",
       "films          object\n",
       "vehicles       object\n",
       "starships      object\n",
       "dtype: object"
      ]
     },
     "execution_count": 125,
     "metadata": {},
     "output_type": "execute_result"
    }
   ],
   "source": [
    "# understanding the variables in my dataframe\n",
    "starwars.dtypes"
   ]
  },
  {
   "cell_type": "markdown",
   "metadata": {},
   "source": [
    "here we see the class of all the variables in the dataframe.    "
   ]
  },
  {
   "cell_type": "code",
   "execution_count": 126,
   "metadata": {},
   "outputs": [
    {
     "name": "stdout",
     "output_type": "stream",
     "text": [
      "The average height among all the characters is: \n"
     ]
    },
    {
     "data": {
      "text/plain": [
       "174.35802469135803"
      ]
     },
     "execution_count": 126,
     "metadata": {},
     "output_type": "execute_result"
    }
   ],
   "source": [
    "print(\"The average height among all the characters is: \")\n",
    "starwars[\"height\"].mean()\n"
   ]
  },
  {
   "cell_type": "code",
   "execution_count": 158,
   "metadata": {},
   "outputs": [
    {
     "name": "stderr",
     "output_type": "stream",
     "text": [
      "C:\\Users\\fechar\\AppData\\Local\\Continuum\\anaconda3\\lib\\site-packages\\numpy\\lib\\histograms.py:824: RuntimeWarning: invalid value encountered in greater_equal\n",
      "  keep = (tmp_a >= first_edge)\n",
      "C:\\Users\\fechar\\AppData\\Local\\Continuum\\anaconda3\\lib\\site-packages\\numpy\\lib\\histograms.py:825: RuntimeWarning: invalid value encountered in less_equal\n",
      "  keep &= (tmp_a <= last_edge)\n"
     ]
    },
    {
     "data": {
      "text/plain": [
       "Text(0, 0.5, 'Frequency')"
      ]
     },
     "execution_count": 158,
     "metadata": {},
     "output_type": "execute_result"
    },
    {
     "data": {
      "image/png": "[encoded data removed]",
      "text/plain": [
       "<Figure size 432x288 with 1 Axes>"
      ]
     },
     "metadata": {
      "needs_background": "light"
     },
     "output_type": "display_data"
    }
   ],
   "source": [
    "plt.hist(starwars[\"height\"], bins = 20, color = \"skyblue\")\n",
    "plt.title(\"Distribution of Height Among Characters\")\n",
    "plt.xlabel(\"Height\")\n",
    "plt.ylabel(\"Frequency\")\n"
   ]
  },
  {
   "cell_type": "code",
   "execution_count": 127,
   "metadata": {},
   "outputs": [
    {
     "data": {
      "text/html": [
       "<div>\n",
       "<style scoped>\n",
       "    .dataframe tbody tr th:only-of-type {\n",
       "        vertical-align: middle;\n",
       "    }\n",
       "\n",
       "    .dataframe tbody tr th {\n",
       "        vertical-align: top;\n",
       "    }\n",
       "\n",
       "    .dataframe thead th {\n",
       "        text-align: right;\n",
       "    }\n",
       "</style>\n",
       "<table border=\"1\" class=\"dataframe\">\n",
       "  <thead>\n",
       "    <tr style=\"text-align: right;\">\n",
       "      <th></th>\n",
       "      <th>name</th>\n",
       "      <th>height</th>\n",
       "      <th>mass</th>\n",
       "      <th>hair_color</th>\n",
       "      <th>skin_color</th>\n",
       "      <th>eye_color</th>\n",
       "      <th>birth_year</th>\n",
       "      <th>sex</th>\n",
       "      <th>gender</th>\n",
       "      <th>homeworld</th>\n",
       "      <th>species</th>\n",
       "      <th>films</th>\n",
       "      <th>vehicles</th>\n",
       "      <th>starships</th>\n",
       "    </tr>\n",
       "  </thead>\n",
       "  <tbody>\n",
       "    <tr>\n",
       "      <td>53</td>\n",
       "      <td>Yarael Poof</td>\n",
       "      <td>264.0</td>\n",
       "      <td>NaN</td>\n",
       "      <td>none</td>\n",
       "      <td>white</td>\n",
       "      <td>yellow</td>\n",
       "      <td>NaN</td>\n",
       "      <td>male</td>\n",
       "      <td>masculine</td>\n",
       "      <td>Quermia</td>\n",
       "      <td>Quermian</td>\n",
       "      <td>The Phantom Menace</td>\n",
       "      <td>NaN</td>\n",
       "      <td>NaN</td>\n",
       "    </tr>\n",
       "  </tbody>\n",
       "</table>\n",
       "</div>"
      ],
      "text/plain": [
       "           name  height  mass hair_color skin_color eye_color  birth_year  \\\n",
       "53  Yarael Poof   264.0   NaN       none      white    yellow         NaN   \n",
       "\n",
       "     sex     gender homeworld   species               films vehicles starships  \n",
       "53  male  masculine   Quermia  Quermian  The Phantom Menace      NaN       NaN  "
      ]
     },
     "execution_count": 127,
     "metadata": {},
     "output_type": "execute_result"
    }
   ],
   "source": [
    "#print(\"The tallest person is: \")\n",
    "#starwars[\n",
    "a = starwars[\"height\"].max()\n",
    "a = starwars[starwars[\"height\"]==a]\n",
    "a\n"
   ]
  },
  {
   "cell_type": "code",
   "execution_count": 159,
   "metadata": {},
   "outputs": [
    {
     "data": {
      "text/html": [
       "<div>\n",
       "<style scoped>\n",
       "    .dataframe tbody tr th:only-of-type {\n",
       "        vertical-align: middle;\n",
       "    }\n",
       "\n",
       "    .dataframe tbody tr th {\n",
       "        vertical-align: top;\n",
       "    }\n",
       "\n",
       "    .dataframe thead th {\n",
       "        text-align: right;\n",
       "    }\n",
       "</style>\n",
       "<table border=\"1\" class=\"dataframe\">\n",
       "  <thead>\n",
       "    <tr style=\"text-align: right;\">\n",
       "      <th></th>\n",
       "      <th>name</th>\n",
       "      <th>height</th>\n",
       "      <th>mass</th>\n",
       "      <th>hair_color</th>\n",
       "      <th>skin_color</th>\n",
       "      <th>eye_color</th>\n",
       "      <th>birth_year</th>\n",
       "      <th>sex</th>\n",
       "      <th>gender</th>\n",
       "      <th>homeworld</th>\n",
       "      <th>species</th>\n",
       "      <th>films</th>\n",
       "      <th>vehicles</th>\n",
       "      <th>starships</th>\n",
       "    </tr>\n",
       "  </thead>\n",
       "  <tbody>\n",
       "    <tr>\n",
       "      <td>15</td>\n",
       "      <td>Jabba Desilijic Tiure</td>\n",
       "      <td>175.0</td>\n",
       "      <td>1358.0</td>\n",
       "      <td>NaN</td>\n",
       "      <td>green-tan, brown</td>\n",
       "      <td>orange</td>\n",
       "      <td>600.0</td>\n",
       "      <td>hermaphroditic</td>\n",
       "      <td>masculine</td>\n",
       "      <td>Nal Hutta</td>\n",
       "      <td>Hutt</td>\n",
       "      <td>The Phantom Menace, Return of the Jedi, A New ...</td>\n",
       "      <td>NaN</td>\n",
       "      <td>NaN</td>\n",
       "    </tr>\n",
       "  </tbody>\n",
       "</table>\n",
       "</div>"
      ],
      "text/plain": [
       "                     name  height    mass hair_color        skin_color  \\\n",
       "15  Jabba Desilijic Tiure   175.0  1358.0        NaN  green-tan, brown   \n",
       "\n",
       "   eye_color  birth_year             sex     gender  homeworld species  \\\n",
       "15    orange       600.0  hermaphroditic  masculine  Nal Hutta    Hutt   \n",
       "\n",
       "                                                films vehicles starships  \n",
       "15  The Phantom Menace, Return of the Jedi, A New ...      NaN       NaN  "
      ]
     },
     "execution_count": 159,
     "metadata": {},
     "output_type": "execute_result"
    }
   ],
   "source": [
    "b = starwars[\"mass\"].max()\n",
    "b = starwars[starwars[\"mass\"]== b]\n",
    "b"
   ]
  },
  {
   "cell_type": "markdown",
   "metadata": {},
   "source": [
    "Among the starwars characters, Yarael Poof is the tallest at 264.0   \n",
    "and Jabba Desilijic Tiure is the bigest in terms of mass."
   ]
  },
  {
   "cell_type": "code",
   "execution_count": 50,
   "metadata": {
    "scrolled": false
   },
   "outputs": [
    {
     "data": {
      "text/plain": [
       "<matplotlib.axes._subplots.AxesSubplot at 0x25e1d76ab88>"
      ]
     },
     "execution_count": 50,
     "metadata": {},
     "output_type": "execute_result"
    },
    {
     "data": {
      "image/png": "[encoded data removed]",
      "text/plain": [
       "<Figure size 432x288 with 1 Axes>"
      ]
     },
     "metadata": {
      "needs_background": "light"
     },
     "output_type": "display_data"
    }
   ],
   "source": [
    "starwars[\"mass\"].plot.box()"
   ]
  },
  {
   "cell_type": "markdown",
   "metadata": {},
   "source": [
    "from this boxplot, we can see that there is an outlier within the values of mass. I am pretty sure it's    \n",
    "Jabba Desilijic Tiure given that he or she is the largest in term of mass. I will remove that character and see whhat the distribution of mass looks like afterwards. \n",
    "\n"
   ]
  },
  {
   "cell_type": "code",
   "execution_count": 173,
   "metadata": {},
   "outputs": [
    {
     "name": "stderr",
     "output_type": "stream",
     "text": [
      "C:\\Users\\fechar\\AppData\\Local\\Continuum\\anaconda3\\lib\\site-packages\\numpy\\lib\\histograms.py:824: RuntimeWarning: invalid value encountered in greater_equal\n",
      "  keep = (tmp_a >= first_edge)\n",
      "C:\\Users\\fechar\\AppData\\Local\\Continuum\\anaconda3\\lib\\site-packages\\numpy\\lib\\histograms.py:825: RuntimeWarning: invalid value encountered in less_equal\n",
      "  keep &= (tmp_a <= last_edge)\n"
     ]
    },
    {
     "data": {
      "text/plain": [
       "Text(0, 0.5, 'Frequency')"
      ]
     },
     "execution_count": 173,
     "metadata": {},
     "output_type": "execute_result"
    },
    {
     "data": {
      "image/png": "[encoded data removed]",
      "text/plain": [
       "<Figure size 432x288 with 1 Axes>"
      ]
     },
     "metadata": {
      "needs_background": "light"
     },
     "output_type": "display_data"
    }
   ],
   "source": [
    "z = starwars[starwars[\"mass\"] != starwars[\"mass\"].max()]\n",
    "\n",
    "plt.hist(z[\"mass\"], bins = 5, color = \"green\")\n",
    "plt.title(\"Distribution of Mass Among the Starwars Characters\")\n",
    "plt.xlabel(\"Mass\")\n",
    "plt.ylabel(\"Frequency\")"
   ]
  },
  {
   "cell_type": "code",
   "execution_count": 138,
   "metadata": {},
   "outputs": [
    {
     "data": {
      "text/plain": [
       "none             37\n",
       "brown            18\n",
       "black            13\n",
       "white             4\n",
       "blond             3\n",
       "auburn, white     1\n",
       "blonde            1\n",
       "unknown           1\n",
       "auburn, grey      1\n",
       "brown, grey       1\n",
       "auburn            1\n",
       "grey              1\n",
       "Name: hair_color, dtype: int64"
      ]
     },
     "execution_count": 138,
     "metadata": {},
     "output_type": "execute_result"
    }
   ],
   "source": [
    "starwars[\"hair_color\"].value_counts()"
   ]
  },
  {
   "cell_type": "code",
   "execution_count": 139,
   "metadata": {},
   "outputs": [
    {
     "data": {
      "text/plain": [
       "fair                   17\n",
       "light                  11\n",
       "green                   6\n",
       "grey                    6\n",
       "dark                    6\n",
       "pale                    5\n",
       "brown                   4\n",
       "blue, grey              2\n",
       "white                   2\n",
       "yellow                  2\n",
       "blue                    2\n",
       "unknown                 2\n",
       "white, blue             2\n",
       "orange                  2\n",
       "tan                     2\n",
       "metal                   1\n",
       "red                     1\n",
       "white, red              1\n",
       "grey, red               1\n",
       "gold                    1\n",
       "fair, green, yellow     1\n",
       "brown mottle            1\n",
       "grey, green, yellow     1\n",
       "green-tan, brown        1\n",
       "green, grey             1\n",
       "none                    1\n",
       "mottled green           1\n",
       "red, blue, white        1\n",
       "brown, white            1\n",
       "silver, red             1\n",
       "grey, blue              1\n",
       "Name: skin_color, dtype: int64"
      ]
     },
     "execution_count": 139,
     "metadata": {},
     "output_type": "execute_result"
    }
   ],
   "source": [
    "starwars[\"skin_color\"].value_counts()"
   ]
  },
  {
   "cell_type": "code",
   "execution_count": 140,
   "metadata": {},
   "outputs": [
    {
     "data": {
      "text/plain": [
       "Human             35\n",
       "Droid              6\n",
       "Gungan             3\n",
       "Twi'lek            2\n",
       "Zabrak             2\n",
       "Mirialan           2\n",
       "Wookiee            2\n",
       "Kaminoan           2\n",
       "Toydarian          1\n",
       "Sullustan          1\n",
       "Chagrian           1\n",
       "Toong              1\n",
       "Vulptereen         1\n",
       "Mon Calamari       1\n",
       "Rodian             1\n",
       "Kaleesh            1\n",
       "Quermian           1\n",
       "Tholothian         1\n",
       "Geonosian          1\n",
       "Iktotchi           1\n",
       "Pau'an             1\n",
       "Yoda's species     1\n",
       "Besalisk           1\n",
       "Xexto              1\n",
       "Kel Dor            1\n",
       "Aleena             1\n",
       "Trandoshan         1\n",
       "Hutt               1\n",
       "Cerean             1\n",
       "Nautolan           1\n",
       "Skakoan            1\n",
       "Neimodian          1\n",
       "Dug                1\n",
       "Ewok               1\n",
       "Clawdite           1\n",
       "Muun               1\n",
       "Togruta            1\n",
       "Name: species, dtype: int64"
      ]
     },
     "execution_count": 140,
     "metadata": {},
     "output_type": "execute_result"
    }
   ],
   "source": [
    "plt.barh(c, width = 4)\n"
   ]
  },
  {
   "cell_type": "code",
   "execution_count": 141,
   "metadata": {},
   "outputs": [
    {
     "data": {
      "text/plain": [
       "male              60\n",
       "female            16\n",
       "none               6\n",
       "hermaphroditic     1\n",
       "Name: sex, dtype: int64"
      ]
     },
     "execution_count": 141,
     "metadata": {},
     "output_type": "execute_result"
    }
   ],
   "source": [
    "starwars[\"sex\"].value_counts()"
   ]
  },
  {
   "cell_type": "markdown",
   "metadata": {},
   "source": [
    "Here we can see that among the charatcers, there are 60 males, 16 female, and 7 \"other\" type  "
   ]
  }
 ],
 "metadata": {
  "kernelspec": {
   "display_name": "Python 3",
   "language": "python",
   "name": "python3"
  },
  "language_info": {
   "codemirror_mode": {
    "name": "ipython",
    "version": 3
   },
   "file_extension": ".py",
   "mimetype": "text/x-python",
   "name": "python",
   "nbconvert_exporter": "python",
   "pygments_lexer": "ipython3",
   "version": "3.7.4"
  }
 },
 "nbformat": 4,
 "nbformat_minor": 2
}
